{
  "nbformat": 4,
  "nbformat_minor": 0,
  "metadata": {
    "colab": {
      "name": "Klasifikasi Data dengan Naive Bayes.ipynb",
      "provenance": [],
      "collapsed_sections": []
    },
    "kernelspec": {
      "name": "python3",
      "display_name": "Python 3"
    },
    "language_info": {
      "name": "python"
    }
  },
  "cells": [
    {
      "cell_type": "code",
      "metadata": {
        "id": "eMY7RnhDCjxz"
      },
      "source": [
        "import numpy as np\n",
        "import matplotlib.pyplot as plt\n",
        "import pandas as pd"
      ],
      "execution_count": 37,
      "outputs": []
    },
    {
      "cell_type": "code",
      "metadata": {
        "id": "pQE-rmlgDaQn"
      },
      "source": [
        "dataset = pd.read_csv(\"Data_Naive.csv\")\n",
        "x = dataset.iloc[:, [2,3]].values\n",
        "y = dataset.iloc[:, -1].values"
      ],
      "execution_count": 38,
      "outputs": []
    },
    {
      "cell_type": "code",
      "metadata": {
        "colab": {
          "base_uri": "https://localhost:8080/"
        },
        "id": "ag9QQFeZD0To",
        "outputId": "b93e9d2c-dc39-47a6-b0a1-b8f09ab3e5c3"
      },
      "source": [
        "print(x)"
      ],
      "execution_count": 39,
      "outputs": [
        {
          "output_type": "stream",
          "text": [
            "[[    19  19000]\n",
            " [    35  20000]\n",
            " [    26  43000]\n",
            " [    27  57000]\n",
            " [    19  76000]\n",
            " [    27  58000]\n",
            " [    27  84000]\n",
            " [    32 150000]\n",
            " [    25  33000]\n",
            " [    35  65000]\n",
            " [    26  80000]\n",
            " [    26  52000]\n",
            " [    20  86000]\n",
            " [    32  18000]\n",
            " [    18  82000]\n",
            " [    29  80000]\n",
            " [    47  25000]\n",
            " [    45  26000]\n",
            " [    46  28000]\n",
            " [    48  29000]\n",
            " [    45  22000]\n",
            " [    47  49000]\n",
            " [    48  41000]\n",
            " [    45  22000]\n",
            " [    46  23000]\n",
            " [    47  20000]\n",
            " [    49  28000]\n",
            " [    47  30000]\n",
            " [    29  43000]\n",
            " [    31  18000]\n",
            " [    31  74000]\n",
            " [    27 137000]\n",
            " [    21  16000]\n",
            " [    28  44000]\n",
            " [    27  90000]\n",
            " [    35  27000]\n",
            " [    33  28000]\n",
            " [    30  49000]\n",
            " [    26  72000]\n",
            " [    27  31000]\n",
            " [    27  17000]\n",
            " [    33  51000]\n",
            " [    35 108000]\n",
            " [    30  15000]\n",
            " [    28  84000]\n",
            " [    23  20000]\n",
            " [    25  79000]\n",
            " [    27  54000]\n",
            " [    30 135000]\n",
            " [    31  89000]\n",
            " [    24  32000]\n",
            " [    18  44000]\n",
            " [    29  83000]\n",
            " [    35  23000]\n",
            " [    27  58000]\n",
            " [    24  55000]\n",
            " [    23  48000]\n",
            " [    28  79000]\n",
            " [    22  18000]\n",
            " [    32 117000]\n",
            " [    27  20000]\n",
            " [    25  87000]\n",
            " [    23  66000]\n",
            " [    32 120000]\n",
            " [    59  83000]\n",
            " [    24  58000]\n",
            " [    24  19000]\n",
            " [    23  82000]\n",
            " [    22  63000]\n",
            " [    31  68000]\n",
            " [    25  80000]\n",
            " [    24  27000]\n",
            " [    20  23000]\n",
            " [    33 113000]\n",
            " [    32  18000]\n",
            " [    34 112000]\n",
            " [    18  52000]\n",
            " [    22  27000]\n",
            " [    28  87000]\n",
            " [    26  17000]\n",
            " [    30  80000]\n",
            " [    39  42000]\n",
            " [    20  49000]\n",
            " [    35  88000]\n",
            " [    30  62000]\n",
            " [    31 118000]\n",
            " [    24  55000]\n",
            " [    28  85000]\n",
            " [    26  81000]\n",
            " [    35  50000]\n",
            " [    22  81000]\n",
            " [    30 116000]\n",
            " [    26  15000]\n",
            " [    29  28000]\n",
            " [    29  83000]\n",
            " [    35  44000]\n",
            " [    35  25000]\n",
            " [    28 123000]\n",
            " [    35  73000]]\n"
          ],
          "name": "stdout"
        }
      ]
    },
    {
      "cell_type": "code",
      "metadata": {
        "colab": {
          "base_uri": "https://localhost:8080/"
        },
        "id": "uPeXW7YPETCu",
        "outputId": "1ed3ef71-fefc-4448-e4f6-ca44e2199b94"
      },
      "source": [
        "print(y)"
      ],
      "execution_count": 40,
      "outputs": [
        {
          "output_type": "stream",
          "text": [
            "[0 0 0 0 0 0 0 1 0 0 0 0 0 0 0 0 1 1 1 1 1 1 1 1 1 1 1 1 0 0 0 1 0 0 0 0 1\n",
            " 0 1 0 0 0 0 0 0 0 0 0 1 0 0 0 1 0 0 0 0 0 0 0 0 0 0 1 0 1 0 0 0 0 0 0 0 0\n",
            " 0 1 0 0 1 0 0 1 0 0 0 1 0 0 1 0 1 0 0 0 1 0 0 1 0]\n"
          ],
          "name": "stdout"
        }
      ]
    },
    {
      "cell_type": "code",
      "metadata": {
        "id": "YKAgysarEa-Z"
      },
      "source": [
        "from sklearn.model_selection import train_test_split\n",
        "x_train, x_test, y_train, y_test = train_test_split(x,y, test_size= 0.25, random_state=0)"
      ],
      "execution_count": 41,
      "outputs": []
    },
    {
      "cell_type": "code",
      "metadata": {
        "colab": {
          "base_uri": "https://localhost:8080/"
        },
        "id": "IJDHQwMhFHyQ",
        "outputId": "44fb6e04-c3f2-471e-ed21-eaffbd48b7d9"
      },
      "source": [
        "print(x_train)"
      ],
      "execution_count": 42,
      "outputs": [
        {
          "output_type": "stream",
          "text": [
            "[[    30 135000]\n",
            " [    27  84000]\n",
            " [    35  73000]\n",
            " [    20  49000]\n",
            " [    18  52000]\n",
            " [    27  20000]\n",
            " [    30  80000]\n",
            " [    35  50000]\n",
            " [    22  63000]\n",
            " [    18  44000]\n",
            " [    47  30000]\n",
            " [    46  28000]\n",
            " [    23  48000]\n",
            " [    32 120000]\n",
            " [    32  18000]\n",
            " [    35  20000]\n",
            " [    25  87000]\n",
            " [    35 108000]\n",
            " [    33  51000]\n",
            " [    19  76000]\n",
            " [    29  80000]\n",
            " [    45  26000]\n",
            " [    27  17000]\n",
            " [    26  72000]\n",
            " [    27  58000]\n",
            " [    22  81000]\n",
            " [    32 117000]\n",
            " [    19  19000]\n",
            " [    27  90000]\n",
            " [    29  43000]\n",
            " [    24  32000]\n",
            " [    26  52000]\n",
            " [    35  27000]\n",
            " [    45  22000]\n",
            " [    29  83000]\n",
            " [    26  80000]\n",
            " [    27 137000]\n",
            " [    24  19000]\n",
            " [    28  79000]\n",
            " [    26  17000]\n",
            " [    31 118000]\n",
            " [    21  16000]\n",
            " [    30  62000]\n",
            " [    18  82000]\n",
            " [    26  81000]\n",
            " [    48  29000]\n",
            " [    31  18000]\n",
            " [    31  89000]\n",
            " [    35  25000]\n",
            " [    28 123000]\n",
            " [    31  68000]\n",
            " [    45  22000]\n",
            " [    29  28000]\n",
            " [    20  23000]\n",
            " [    22  27000]\n",
            " [    47  20000]\n",
            " [    30  49000]\n",
            " [    39  42000]\n",
            " [    25  79000]\n",
            " [    27  31000]\n",
            " [    24  58000]\n",
            " [    22  18000]\n",
            " [    20  86000]\n",
            " [    25  80000]\n",
            " [    28  85000]\n",
            " [    33  28000]\n",
            " [    47  49000]\n",
            " [    35  88000]\n",
            " [    35  65000]\n",
            " [    35  44000]\n",
            " [    23  82000]\n",
            " [    59  83000]\n",
            " [    27  54000]\n",
            " [    28  84000]]\n"
          ],
          "name": "stdout"
        }
      ]
    },
    {
      "cell_type": "code",
      "metadata": {
        "colab": {
          "base_uri": "https://localhost:8080/"
        },
        "id": "H14_IoIIFM_u",
        "outputId": "5e6ece2d-2d0a-47e0-a8df-800d2717a17f"
      },
      "source": [
        "print(x_test)"
      ],
      "execution_count": 43,
      "outputs": [
        {
          "output_type": "stream",
          "text": [
            "[[    49  28000]\n",
            " [    24  55000]\n",
            " [    26  43000]\n",
            " [    24  55000]\n",
            " [    34 112000]\n",
            " [    26  15000]\n",
            " [    47  25000]\n",
            " [    33 113000]\n",
            " [    27  58000]\n",
            " [    29  83000]\n",
            " [    35  23000]\n",
            " [    30 116000]\n",
            " [    28  87000]\n",
            " [    32  18000]\n",
            " [    32 150000]\n",
            " [    31  74000]\n",
            " [    48  41000]\n",
            " [    46  23000]\n",
            " [    28  44000]\n",
            " [    25  33000]\n",
            " [    30  15000]\n",
            " [    23  66000]\n",
            " [    27  57000]\n",
            " [    24  27000]\n",
            " [    23  20000]]\n"
          ],
          "name": "stdout"
        }
      ]
    },
    {
      "cell_type": "code",
      "metadata": {
        "colab": {
          "base_uri": "https://localhost:8080/"
        },
        "id": "UBQ0IYI8FSN-",
        "outputId": "d2f7f2e3-96e8-41cf-ab98-5d7926ed4a6c"
      },
      "source": [
        "print(y_train)"
      ],
      "execution_count": 44,
      "outputs": [
        {
          "output_type": "stream",
          "text": [
            "[1 0 0 0 0 0 0 0 0 0 1 1 0 1 0 0 0 0 0 0 0 1 0 1 0 1 0 0 0 0 0 0 0 1 1 0 1\n",
            " 0 0 0 1 0 0 0 1 1 0 0 0 1 0 1 0 0 0 1 0 1 0 0 1 0 0 0 0 1 1 0 0 0 0 0 0 0]\n"
          ],
          "name": "stdout"
        }
      ]
    },
    {
      "cell_type": "code",
      "metadata": {
        "colab": {
          "base_uri": "https://localhost:8080/"
        },
        "id": "Y2rr1OWGFY5p",
        "outputId": "456df759-2466-466c-af66-4f5839392702"
      },
      "source": [
        "print(y_test)"
      ],
      "execution_count": 45,
      "outputs": [
        {
          "output_type": "stream",
          "text": [
            "[1 0 0 0 1 0 1 0 0 1 0 0 1 0 1 0 1 1 0 0 0 0 0 0 0]\n"
          ],
          "name": "stdout"
        }
      ]
    },
    {
      "cell_type": "code",
      "metadata": {
        "id": "_oNxR3wIFpZb"
      },
      "source": [
        "from sklearn.preprocessing import StandardScaler\n",
        "sc = StandardScaler()\n",
        "x_train = sc.fit_transform(x_train)\n",
        "x_test = sc.transform(x_test)"
      ],
      "execution_count": 46,
      "outputs": []
    },
    {
      "cell_type": "code",
      "metadata": {
        "colab": {
          "base_uri": "https://localhost:8080/"
        },
        "id": "skF3OGi3GEPo",
        "outputId": "6b1f6908-9de2-4634-c15d-6da5e2c9cbc5"
      },
      "source": [
        "print(x_train)"
      ],
      "execution_count": 47,
      "outputs": [
        {
          "output_type": "stream",
          "text": [
            "[[ 0.00489931  2.39104538]\n",
            " [-0.35764982  0.79870282]\n",
            " [ 0.60914787  0.45525639]\n",
            " [-1.20359781 -0.29408128]\n",
            " [-1.44529723 -0.20041407]\n",
            " [-0.35764982 -1.19953097]\n",
            " [ 0.00489931  0.67381321]\n",
            " [ 0.60914787 -0.26285888]\n",
            " [-0.96189838  0.14303236]\n",
            " [-1.44529723 -0.4501933 ]\n",
            " [ 2.05934442 -0.88730694]\n",
            " [ 1.93849471 -0.94975175]\n",
            " [-0.84104867 -0.32530369]\n",
            " [ 0.24659874  1.92270933]\n",
            " [ 0.24659874 -1.26197578]\n",
            " [ 0.60914787 -1.19953097]\n",
            " [-0.59934925  0.89237003]\n",
            " [ 0.60914787  1.5480405 ]\n",
            " [ 0.36744845 -0.23163648]\n",
            " [-1.32444752  0.5489236 ]\n",
            " [-0.1159504   0.67381321]\n",
            " [ 1.81764499 -1.01219655]\n",
            " [-0.35764982 -1.29319818]\n",
            " [-0.47849954  0.42403399]\n",
            " [-0.35764982 -0.01307966]\n",
            " [-0.96189838  0.70503561]\n",
            " [ 0.24659874  1.82904212]\n",
            " [-1.32444752 -1.23075337]\n",
            " [-0.35764982  0.98603724]\n",
            " [-0.1159504  -0.4814157 ]\n",
            " [-0.72019896 -0.82486213]\n",
            " [-0.47849954 -0.20041407]\n",
            " [ 0.60914787 -0.98097415]\n",
            " [ 1.81764499 -1.13708616]\n",
            " [-0.1159504   0.76748042]\n",
            " [-0.47849954  0.67381321]\n",
            " [-0.35764982  2.45349018]\n",
            " [-0.72019896 -1.23075337]\n",
            " [-0.23680011  0.64259081]\n",
            " [-0.47849954 -1.29319818]\n",
            " [ 0.12574902  1.86026453]\n",
            " [-1.0827481  -1.32442058]\n",
            " [ 0.00489931  0.11180996]\n",
            " [-1.44529723  0.73625802]\n",
            " [-0.47849954  0.70503561]\n",
            " [ 2.18019413 -0.91852934]\n",
            " [ 0.12574902 -1.26197578]\n",
            " [ 0.12574902  0.95481484]\n",
            " [ 0.60914787 -1.04341896]\n",
            " [-0.23680011  2.01637654]\n",
            " [ 0.12574902  0.29914438]\n",
            " [ 1.81764499 -1.13708616]\n",
            " [-0.1159504  -0.94975175]\n",
            " [-1.20359781 -1.10586376]\n",
            " [-0.96189838 -0.98097415]\n",
            " [ 2.05934442 -1.19953097]\n",
            " [ 0.00489931 -0.29408128]\n",
            " [ 1.09254672 -0.5126381 ]\n",
            " [-0.59934925  0.64259081]\n",
            " [-0.35764982 -0.85608454]\n",
            " [-0.72019896 -0.01307966]\n",
            " [-0.96189838 -1.26197578]\n",
            " [-1.20359781  0.86114763]\n",
            " [-0.59934925  0.67381321]\n",
            " [-0.23680011  0.82992523]\n",
            " [ 0.36744845 -0.94975175]\n",
            " [ 2.05934442 -0.29408128]\n",
            " [ 0.60914787  0.92359244]\n",
            " [ 0.60914787  0.20547717]\n",
            " [ 0.60914787 -0.4501933 ]\n",
            " [-0.84104867  0.73625802]\n",
            " [ 3.50954096  0.76748042]\n",
            " [-0.35764982 -0.13796927]\n",
            " [-0.23680011  0.79870282]]\n"
          ],
          "name": "stdout"
        }
      ]
    },
    {
      "cell_type": "code",
      "metadata": {
        "colab": {
          "base_uri": "https://localhost:8080/"
        },
        "id": "2hr0qzlLGSaD",
        "outputId": "8afbb5b7-1919-4bfa-e022-12cc5f878021"
      },
      "source": [
        "print(x_test)"
      ],
      "execution_count": 48,
      "outputs": [
        {
          "output_type": "stream",
          "text": [
            "[[ 2.30104384 -0.94975175]\n",
            " [-0.72019896 -0.10674686]\n",
            " [-0.47849954 -0.4814157 ]\n",
            " [-0.72019896 -0.10674686]\n",
            " [ 0.48829816  1.67293011]\n",
            " [-0.47849954 -1.35564299]\n",
            " [ 2.05934442 -1.04341896]\n",
            " [ 0.36744845  1.70415251]\n",
            " [-0.35764982 -0.01307966]\n",
            " [-0.1159504   0.76748042]\n",
            " [ 0.60914787 -1.10586376]\n",
            " [ 0.00489931  1.79781972]\n",
            " [-0.23680011  0.89237003]\n",
            " [ 0.24659874 -1.26197578]\n",
            " [ 0.24659874  2.85938142]\n",
            " [ 0.12574902  0.48647879]\n",
            " [ 2.18019413 -0.54386051]\n",
            " [ 1.93849471 -1.10586376]\n",
            " [-0.23680011 -0.4501933 ]\n",
            " [-0.59934925 -0.79363973]\n",
            " [ 0.00489931 -1.35564299]\n",
            " [-0.84104867  0.23669957]\n",
            " [-0.35764982 -0.04430206]\n",
            " [-0.72019896 -0.98097415]\n",
            " [-0.84104867 -1.19953097]]\n"
          ],
          "name": "stdout"
        }
      ]
    },
    {
      "cell_type": "code",
      "metadata": {
        "colab": {
          "base_uri": "https://localhost:8080/"
        },
        "id": "9ijsN30FGkfC",
        "outputId": "8043340c-640e-4bd3-c32d-aaabcebb9d51"
      },
      "source": [
        "from sklearn.naive_bayes import GaussianNB\n",
        "classifier = GaussianNB()\n",
        "classifier.fit(x_train, y_train)\n"
      ],
      "execution_count": 49,
      "outputs": [
        {
          "output_type": "execute_result",
          "data": {
            "text/plain": [
              "GaussianNB(priors=None, var_smoothing=1e-09)"
            ]
          },
          "metadata": {
            "tags": []
          },
          "execution_count": 49
        }
      ]
    },
    {
      "cell_type": "code",
      "metadata": {
        "id": "8HtbkU7UHKk2"
      },
      "source": [
        "y_pred = classifier.predict(x_test)"
      ],
      "execution_count": 50,
      "outputs": []
    },
    {
      "cell_type": "code",
      "metadata": {
        "colab": {
          "base_uri": "https://localhost:8080/"
        },
        "id": "S6VtvPx0HmdU",
        "outputId": "3815a799-ed69-4c04-fd48-366838102a19"
      },
      "source": [
        "from sklearn.metrics import confusion_matrix\n",
        "cm = confusion_matrix(y_test, y_pred)\n",
        "print(cm)"
      ],
      "execution_count": 51,
      "outputs": [
        {
          "output_type": "stream",
          "text": [
            "[[16  1]\n",
            " [ 2  6]]\n"
          ],
          "name": "stdout"
        }
      ]
    },
    {
      "cell_type": "code",
      "metadata": {
        "colab": {
          "base_uri": "https://localhost:8080/",
          "height": 349
        },
        "id": "TC6xJC7RI7v4",
        "outputId": "27d5cac3-32c3-4c8a-c022-1295c09d4c7b"
      },
      "source": [
        "from matplotlib.colors import ListedColormap\n",
        "x_set, y_set = x_train, y_train\n",
        "x1, x2 =np.meshgrid(np.arange(start = x_set[:, 0].min()-1, stop = x_set[:,0].max()+1,step=0.01),\n",
        "                    np.arange (start = x_set[:, 1].min()-1, stop = x_set[:,0].max()+1,step=0.01))  \n",
        "plt.contourf(x1,x2, classifier.predict(np.array([x1.ravel(),x2.ravel()]).T).reshape(x1.shape),\n",
        "            alpha =0.75, cmap =ListedColormap(('red', 'green')))\n",
        "plt.xlim(x1.min(), x1.max())\n",
        "plt.ylim(x2.min(), x2.max())\n",
        "for i,j in enumerate(np.unique(y_set)):\n",
        "  plt.scatter(x_set[y_set == j, 0],x_set[y_set == j,1],\n",
        "              c = ListedColormap(('red','green'))(i), label =j)\n",
        "plt.title('Klasifikasi data dengan naive bayes(data training)')\n",
        "plt.xlabel('umur')\n",
        "plt.ylabel('estimasi gaji')\n",
        "plt.legend()\n",
        "plt.show()"
      ],
      "execution_count": 58,
      "outputs": [
        {
          "output_type": "stream",
          "text": [
            "*c* argument looks like a single numeric RGB or RGBA sequence, which should be avoided as value-mapping will have precedence in case its length matches with *x* & *y*.  Please use the *color* keyword-argument or provide a 2-D array with a single row if you intend to specify the same RGB or RGBA value for all points.\n",
            "*c* argument looks like a single numeric RGB or RGBA sequence, which should be avoided as value-mapping will have precedence in case its length matches with *x* & *y*.  Please use the *color* keyword-argument or provide a 2-D array with a single row if you intend to specify the same RGB or RGBA value for all points.\n"
          ],
          "name": "stderr"
        },
        {
          "output_type": "display_data",
          "data": {
            "image/png": "[encoded data removed]",
            "text/plain": [
              "<Figure size 432x288 with 1 Axes>"
            ]
          },
          "metadata": {
            "tags": [],
            "needs_background": "light"
          }
        }
      ]
    },
    {
      "cell_type": "code",
      "metadata": {
        "colab": {
          "base_uri": "https://localhost:8080/",
          "height": 349
        },
        "id": "HHLEy6lZNpky",
        "outputId": "f432c048-62ea-4149-f340-8d7af75d7880"
      },
      "source": [
        "from matplotlib.colors import ListedColormap\n",
        "x_set, y_set = x_test, y_test\n",
        "x1, x2 = np.meshgrid(np.arange(start = x_set[:, 0].min()-1, stop = x_set[:,0].max()+1,step=0.01),\n",
        "                    np.arange (start = x_set[:, 1].min()-1, stop = x_set[:,0].max()+1,step=0.01))  \n",
        "plt.contourf(x1,x2, classifier.predict(np.array([x1.ravel(),x2.ravel()]).T).reshape(x1.shape),\n",
        "            alpha =0.75, cmap =ListedColormap(('black', 'grey')))\n",
        "plt.xlim(x1.min(), x1.max())\n",
        "plt.ylim(x2.min(), x2.max())\n",
        "for i,j in enumerate(np.unique(y_set)):\n",
        "  plt.scatter(x_set[y_set == j, 0],x_set[y_set == j,1],\n",
        "              c = ListedColormap(('black','grey'))(i), label =j)\n",
        "plt.title('Klasifikasi data dengan naive bayes(data test)')\n",
        "plt.xlabel('umur')\n",
        "plt.ylabel('estimasi gaji')\n",
        "plt.legend()\n",
        "plt.show()"
      ],
      "execution_count": 59,
      "outputs": [
        {
          "output_type": "stream",
          "text": [
            "*c* argument looks like a single numeric RGB or RGBA sequence, which should be avoided as value-mapping will have precedence in case its length matches with *x* & *y*.  Please use the *color* keyword-argument or provide a 2-D array with a single row if you intend to specify the same RGB or RGBA value for all points.\n",
            "*c* argument looks like a single numeric RGB or RGBA sequence, which should be avoided as value-mapping will have precedence in case its length matches with *x* & *y*.  Please use the *color* keyword-argument or provide a 2-D array with a single row if you intend to specify the same RGB or RGBA value for all points.\n"
          ],
          "name": "stderr"
        },
        {
          "output_type": "display_data",
          "data": {
            "image/png": "[encoded data removed]",
            "text/plain": [
              "<Figure size 432x288 with 1 Axes>"
            ]
          },
          "metadata": {
            "tags": [],
            "needs_background": "light"
          }
        }
      ]
    }
  ]
}